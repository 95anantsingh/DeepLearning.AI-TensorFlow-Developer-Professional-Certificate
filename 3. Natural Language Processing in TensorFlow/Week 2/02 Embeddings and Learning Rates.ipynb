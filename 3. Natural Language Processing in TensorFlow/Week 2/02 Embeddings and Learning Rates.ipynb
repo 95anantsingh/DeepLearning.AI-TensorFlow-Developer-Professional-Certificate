{
  "cells": [
    {
      "cell_type": "markdown",
      "metadata": {
        "colab_type": "text",
        "id": "view-in-github"
      },
      "source": [
        "<a href=\"https://colab.research.google.com/github/lmoroney/dlaicourse/blob/master/TensorFlow%20In%20Practice/Course%203%20-%20NLP/Course%203%20-%20Week%202%20-%20Lesson%202.ipynb\" target=\"_parent\"><img src=\"https://colab.research.google.com/assets/colab-badge.svg\" alt=\"Open In Colab\"/></a>"
      ]
    },
    {
      "cell_type": "code",
      "execution_count": 1,
      "metadata": {
        "colab": {},
        "colab_type": "code",
        "id": "4gs9htvM7n_x"
      },
      "outputs": [],
      "source": [
        "# Run this to ensure TensorFlow 2.x is used\n",
        "try:\n",
        "  # %tensorflow_version only exists in Colab.\n",
        "  %tensorflow_version 2.x\n",
        "except Exception:\n",
        "  pass"
      ]
    },
    {
      "cell_type": "code",
      "execution_count": 2,
      "metadata": {
        "colab": {},
        "colab_type": "code",
        "id": "XYYDvoskkE61"
      },
      "outputs": [
        {
          "name": "stdout",
          "output_type": "stream",
          "text": [
            "2.6.0\n"
          ]
        }
      ],
      "source": [
        "import json\n",
        "import tensorflow as tf\n",
        "print(tf.__version__)\n",
        "\n",
        "from tensorflow.keras.preprocessing.text import Tokenizer\n",
        "from tensorflow.keras.preprocessing.sequence import pad_sequences"
      ]
    },
    {
      "cell_type": "code",
      "execution_count": 3,
      "metadata": {
        "colab": {},
        "colab_type": "code",
        "id": "0eJSTTYnkJQd"
      },
      "outputs": [],
      "source": [
        "vocab_size = 10000\n",
        "embedding_dim = 16\n",
        "max_length = 100\n",
        "trunc_type='post'\n",
        "padding_type='post'\n",
        "oov_tok = \"<OOV>\"\n",
        "training_size = 20000\n"
      ]
    },
    {
      "cell_type": "code",
      "execution_count": 4,
      "metadata": {
        "colab": {},
        "colab_type": "code",
        "id": "BQVuQrZNkPn9"
      },
      "outputs": [],
      "source": [
        "import os\n",
        "import requests\n",
        "\n",
        "path =  os.path.join('dataset') \n",
        "filename = \"sarcasm.json\"\n",
        "filepath = os.path.join(path, filename)\n",
        "\n",
        "if not os.path.exists(path):\n",
        "  os.makedirs(path)\n",
        "\n",
        "if not os.path.exists(filepath):\n",
        "  url = \"https://storage.googleapis.com/laurencemoroney-blog.appspot.com/sarcasm.json\"\n",
        "  jfile = requests.get(url)\n",
        "  open(filepath, 'wb').write(jfile.content)\n"
      ]
    },
    {
      "cell_type": "code",
      "execution_count": 5,
      "metadata": {
        "colab": {},
        "colab_type": "code",
        "id": "oaLaaqhNkUPd"
      },
      "outputs": [],
      "source": [
        "with open(\"dataset/sarcasm.json\", 'r') as f:\n",
        "    datastore = json.load(f)\n",
        "\n",
        "sentences = []\n",
        "labels = []\n",
        "\n",
        "for item in datastore:\n",
        "    sentences.append(item['headline'])\n",
        "    labels.append(item['is_sarcastic'])"
      ]
    },
    {
      "cell_type": "code",
      "execution_count": 6,
      "metadata": {
        "colab": {},
        "colab_type": "code",
        "id": "S1sD-7v0kYWk"
      },
      "outputs": [],
      "source": [
        "training_sentences = sentences[0:training_size]\n",
        "testing_sentences = sentences[training_size:]\n",
        "training_labels = labels[0:training_size]\n",
        "testing_labels = labels[training_size:]"
      ]
    },
    {
      "cell_type": "code",
      "execution_count": 7,
      "metadata": {
        "colab": {},
        "colab_type": "code",
        "id": "3u8UB0MCkZ5N"
      },
      "outputs": [],
      "source": [
        "tokenizer = Tokenizer(num_words=vocab_size, oov_token=oov_tok)\n",
        "tokenizer.fit_on_texts(training_sentences)\n",
        "\n",
        "word_index = tokenizer.word_index\n",
        "\n",
        "training_sequences = tokenizer.texts_to_sequences(training_sentences)\n",
        "training_padded = pad_sequences(training_sequences, maxlen=max_length, padding=padding_type, truncating=trunc_type)\n",
        "\n",
        "testing_sequences = tokenizer.texts_to_sequences(testing_sentences)\n",
        "testing_padded = pad_sequences(testing_sequences, maxlen=max_length, padding=padding_type, truncating=trunc_type)"
      ]
    },
    {
      "cell_type": "code",
      "execution_count": 8,
      "metadata": {
        "colab": {},
        "colab_type": "code",
        "id": "GrAlWBKf99Ya"
      },
      "outputs": [],
      "source": [
        "# Need this block to get it to work with TensorFlow 2.x\n",
        "import numpy as np\n",
        "training_padded = np.array(training_padded)\n",
        "training_labels = np.array(training_labels)\n",
        "testing_padded = np.array(testing_padded)\n",
        "testing_labels = np.array(testing_labels)"
      ]
    },
    {
      "cell_type": "code",
      "execution_count": 9,
      "metadata": {
        "colab": {},
        "colab_type": "code",
        "id": "FufaT4vlkiDE"
      },
      "outputs": [],
      "source": [
        "model = tf.keras.Sequential([\n",
        "    tf.keras.layers.Embedding(vocab_size, embedding_dim, input_length=max_length),\n",
        "    tf.keras.layers.GlobalAveragePooling1D(),\n",
        "    tf.keras.layers.Dense(24, activation='relu'),\n",
        "    tf.keras.layers.Dense(1, activation='sigmoid')\n",
        "])\n",
        "model.compile(loss='binary_crossentropy',optimizer='adam',metrics=['accuracy'])"
      ]
    },
    {
      "cell_type": "code",
      "execution_count": 10,
      "metadata": {
        "colab": {},
        "colab_type": "code",
        "id": "XfDt1hmYkiys"
      },
      "outputs": [
        {
          "name": "stdout",
          "output_type": "stream",
          "text": [
            "Model: \"sequential\"\n",
            "_________________________________________________________________\n",
            "Layer (type)                 Output Shape              Param #   \n",
            "=================================================================\n",
            "embedding (Embedding)        (None, 100, 16)           160000    \n",
            "_________________________________________________________________\n",
            "global_average_pooling1d (Gl (None, 16)                0         \n",
            "_________________________________________________________________\n",
            "dense (Dense)                (None, 24)                408       \n",
            "_________________________________________________________________\n",
            "dense_1 (Dense)              (None, 1)                 25        \n",
            "=================================================================\n",
            "Total params: 160,433\n",
            "Trainable params: 160,433\n",
            "Non-trainable params: 0\n",
            "_________________________________________________________________\n"
          ]
        }
      ],
      "source": [
        "model.summary()\n"
      ]
    },
    {
      "cell_type": "code",
      "execution_count": 11,
      "metadata": {
        "colab": {},
        "colab_type": "code",
        "id": "2DTKQFf1kkyc"
      },
      "outputs": [
        {
          "name": "stdout",
          "output_type": "stream",
          "text": [
            "Epoch 1/30\n",
            "625/625 - 5s - loss: 0.6775 - accuracy: 0.5662 - val_loss: 0.6394 - val_accuracy: 0.5935\n",
            "Epoch 2/30\n",
            "625/625 - 4s - loss: 0.4787 - accuracy: 0.8010 - val_loss: 0.3990 - val_accuracy: 0.8278\n",
            "Epoch 3/30\n",
            "625/625 - 4s - loss: 0.3262 - accuracy: 0.8677 - val_loss: 0.3635 - val_accuracy: 0.8422\n",
            "Epoch 4/30\n",
            "625/625 - 5s - loss: 0.2716 - accuracy: 0.8939 - val_loss: 0.3453 - val_accuracy: 0.8520\n",
            "Epoch 5/30\n",
            "625/625 - 5s - loss: 0.2354 - accuracy: 0.9101 - val_loss: 0.3418 - val_accuracy: 0.8532\n",
            "Epoch 6/30\n",
            "625/625 - 4s - loss: 0.2091 - accuracy: 0.9189 - val_loss: 0.3429 - val_accuracy: 0.8556\n",
            "Epoch 7/30\n",
            "625/625 - 3s - loss: 0.1879 - accuracy: 0.9292 - val_loss: 0.3622 - val_accuracy: 0.8490\n",
            "Epoch 8/30\n",
            "625/625 - 4s - loss: 0.1679 - accuracy: 0.9360 - val_loss: 0.3785 - val_accuracy: 0.8451\n",
            "Epoch 9/30\n",
            "625/625 - 4s - loss: 0.1535 - accuracy: 0.9430 - val_loss: 0.3744 - val_accuracy: 0.8532\n",
            "Epoch 10/30\n",
            "625/625 - 3s - loss: 0.1409 - accuracy: 0.9488 - val_loss: 0.3884 - val_accuracy: 0.8539\n",
            "Epoch 11/30\n",
            "625/625 - 4s - loss: 0.1269 - accuracy: 0.9553 - val_loss: 0.4034 - val_accuracy: 0.8526\n",
            "Epoch 12/30\n",
            "625/625 - 4s - loss: 0.1175 - accuracy: 0.9595 - val_loss: 0.4232 - val_accuracy: 0.8508\n",
            "Epoch 13/30\n",
            "625/625 - 3s - loss: 0.1072 - accuracy: 0.9636 - val_loss: 0.4417 - val_accuracy: 0.8493\n",
            "Epoch 14/30\n",
            "625/625 - 4s - loss: 0.0987 - accuracy: 0.9670 - val_loss: 0.4675 - val_accuracy: 0.8427\n",
            "Epoch 15/30\n",
            "625/625 - 4s - loss: 0.0917 - accuracy: 0.9701 - val_loss: 0.5102 - val_accuracy: 0.8335\n",
            "Epoch 16/30\n",
            "625/625 - 4s - loss: 0.0843 - accuracy: 0.9731 - val_loss: 0.5083 - val_accuracy: 0.8402\n",
            "Epoch 17/30\n",
            "625/625 - 4s - loss: 0.0791 - accuracy: 0.9748 - val_loss: 0.5407 - val_accuracy: 0.8384\n",
            "Epoch 18/30\n",
            "625/625 - 3s - loss: 0.0728 - accuracy: 0.9766 - val_loss: 0.5746 - val_accuracy: 0.8337\n",
            "Epoch 19/30\n",
            "625/625 - 4s - loss: 0.0673 - accuracy: 0.9793 - val_loss: 0.5844 - val_accuracy: 0.8338\n",
            "Epoch 20/30\n",
            "625/625 - 4s - loss: 0.0625 - accuracy: 0.9810 - val_loss: 0.6272 - val_accuracy: 0.8295\n",
            "Epoch 21/30\n",
            "625/625 - 3s - loss: 0.0592 - accuracy: 0.9809 - val_loss: 0.6374 - val_accuracy: 0.8313\n",
            "Epoch 22/30\n",
            "625/625 - 4s - loss: 0.0544 - accuracy: 0.9841 - val_loss: 0.6619 - val_accuracy: 0.8287\n",
            "Epoch 23/30\n",
            "625/625 - 4s - loss: 0.0504 - accuracy: 0.9847 - val_loss: 0.6900 - val_accuracy: 0.8281\n",
            "Epoch 24/30\n",
            "625/625 - 3s - loss: 0.0464 - accuracy: 0.9859 - val_loss: 0.7229 - val_accuracy: 0.8265\n",
            "Epoch 25/30\n",
            "625/625 - 4s - loss: 0.0441 - accuracy: 0.9866 - val_loss: 0.7483 - val_accuracy: 0.8238\n",
            "Epoch 26/30\n",
            "625/625 - 3s - loss: 0.0413 - accuracy: 0.9877 - val_loss: 0.7764 - val_accuracy: 0.8226\n",
            "Epoch 27/30\n",
            "625/625 - 4s - loss: 0.0378 - accuracy: 0.9897 - val_loss: 0.8296 - val_accuracy: 0.8199\n",
            "Epoch 28/30\n",
            "625/625 - 4s - loss: 0.0352 - accuracy: 0.9898 - val_loss: 0.8410 - val_accuracy: 0.8188\n",
            "Epoch 29/30\n",
            "625/625 - 3s - loss: 0.0335 - accuracy: 0.9905 - val_loss: 0.8732 - val_accuracy: 0.8180\n",
            "Epoch 30/30\n",
            "625/625 - 3s - loss: 0.0319 - accuracy: 0.9908 - val_loss: 0.9055 - val_accuracy: 0.8137\n"
          ]
        }
      ],
      "source": [
        "num_epochs = 30\n",
        "history = model.fit(training_padded, training_labels, epochs=num_epochs, validation_data=(testing_padded, testing_labels), verbose=2)"
      ]
    },
    {
      "cell_type": "code",
      "execution_count": 12,
      "metadata": {
        "colab": {},
        "colab_type": "code",
        "id": "2HYfBKXjkmU8"
      },
      "outputs": [
        {
          "data": {
            "image/png": "[encoded data removed]",
            "text/plain": [
              "<Figure size 432x288 with 1 Axes>"
            ]
          },
          "metadata": {
            "needs_background": "light"
          },
          "output_type": "display_data"
        },
        {
          "data": {
            "image/png": "[encoded data removed]",
            "text/plain": [
              "<Figure size 432x288 with 1 Axes>"
            ]
          },
          "metadata": {
            "needs_background": "light"
          },
          "output_type": "display_data"
        }
      ],
      "source": [
        "import matplotlib.pyplot as plt\n",
        "\n",
        "\n",
        "def plot_graphs(history, string):\n",
        "  plt.plot(history.history[string])\n",
        "  plt.plot(history.history['val_'+string])\n",
        "  plt.xlabel(\"Epochs\")\n",
        "  plt.ylabel(string)\n",
        "  plt.legend([string, 'val_'+string])\n",
        "  plt.show()\n",
        "  \n",
        "plot_graphs(history, \"accuracy\")\n",
        "plot_graphs(history, \"loss\")"
      ]
    },
    {
      "cell_type": "code",
      "execution_count": 13,
      "metadata": {
        "colab": {},
        "colab_type": "code",
        "id": "7SBdAZAenvzL"
      },
      "outputs": [
        {
          "name": "stdout",
          "output_type": "stream",
          "text": [
            "former <OOV> store clerk sues over secret 'black <OOV> for minority shoppers ? ? ? ? ? ? ? ? ? ? ? ? ? ? ? ? ? ? ? ? ? ? ? ? ? ? ? ? ? ? ? ? ? ? ? ? ? ? ? ? ? ? ? ? ? ? ? ? ? ? ? ? ? ? ? ? ? ? ? ? ? ? ? ? ? ? ? ? ? ? ? ? ? ? ? ? ? ? ? ? ? ? ? ? ? ? ? ?\n",
            "mom starting to fear son's web series closest thing she will have to grandchild\n",
            "1\n"
          ]
        }
      ],
      "source": [
        "reverse_word_index = dict([(value, key) for (key, value) in word_index.items()])\n",
        "\n",
        "def decode_sentence(text):\n",
        "    return ' '.join([reverse_word_index.get(i, '?') for i in text])\n",
        "\n",
        "print(decode_sentence(training_padded[0]))\n",
        "print(training_sentences[2])\n",
        "print(labels[2])"
      ]
    },
    {
      "cell_type": "code",
      "execution_count": 14,
      "metadata": {
        "colab": {},
        "colab_type": "code",
        "id": "c9MqihtEkzQ9"
      },
      "outputs": [
        {
          "name": "stdout",
          "output_type": "stream",
          "text": [
            "(10000, 16)\n"
          ]
        }
      ],
      "source": [
        "e = model.layers[0]\n",
        "weights = e.get_weights()[0]\n",
        "print(weights.shape) # shape: (vocab_size, embedding_dim)\n"
      ]
    },
    {
      "cell_type": "code",
      "execution_count": 15,
      "metadata": {
        "colab": {},
        "colab_type": "code",
        "id": "LoBXVffknldU"
      },
      "outputs": [],
      "source": [
        "import io\n",
        "\n",
        "out_v = io.open('vecs.tsv', 'w', encoding='utf-8')\n",
        "out_m = io.open('meta.tsv', 'w', encoding='utf-8')\n",
        "for word_num in range(1, vocab_size):\n",
        "  word = reverse_word_index[word_num]\n",
        "  embeddings = weights[word_num]\n",
        "  out_m.write(word + \"\\n\")\n",
        "  out_v.write('\\t'.join([str(x) for x in embeddings]) + \"\\n\")\n",
        "out_v.close()\n",
        "out_m.close()"
      ]
    },
    {
      "cell_type": "code",
      "execution_count": 16,
      "metadata": {
        "colab": {},
        "colab_type": "code",
        "id": "U4eZ5HtVnnEE"
      },
      "outputs": [],
      "source": [
        "try:\n",
        "  from google.colab import files\n",
        "except ImportError:\n",
        "  pass\n",
        "else:\n",
        "  files.download('vecs.tsv')\n",
        "  files.download('meta.tsv')"
      ]
    },
    {
      "cell_type": "code",
      "execution_count": 17,
      "metadata": {
        "colab": {},
        "colab_type": "code",
        "id": "cG8-ArY-qDcz"
      },
      "outputs": [
        {
          "name": "stdout",
          "output_type": "stream",
          "text": [
            "[[9.5499182e-01]\n",
            " [2.8454914e-04]]\n"
          ]
        }
      ],
      "source": [
        "sentence = [\"granny starting to fear spiders in the garden might be real\", \"game of thrones season finale showing this sunday night\"]\n",
        "sequences = tokenizer.texts_to_sequences(sentence)\n",
        "padded = pad_sequences(sequences, maxlen=max_length, padding=padding_type, truncating=trunc_type)\n",
        "print(model.predict(padded))"
      ]
    }
  ],
  "metadata": {
    "accelerator": "GPU",
    "colab": {
      "collapsed_sections": [],
      "include_colab_link": true,
      "name": "Course 3 - Week 2 - Lesson 2.ipynb",
      "provenance": [],
      "toc_visible": true
    },
    "kernelspec": {
      "display_name": "Python 3",
      "name": "python3"
    },
    "language_info": {
      "codemirror_mode": {
        "name": "ipython",
        "version": 3
      },
      "file_extension": ".py",
      "mimetype": "text/x-python",
      "name": "python",
      "nbconvert_exporter": "python",
      "pygments_lexer": "ipython3",
      "version": "3.9.9"
    }
  },
  "nbformat": 4,
  "nbformat_minor": 0
}
