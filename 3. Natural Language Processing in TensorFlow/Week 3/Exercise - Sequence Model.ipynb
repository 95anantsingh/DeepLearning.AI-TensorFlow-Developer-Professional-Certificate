{
  "cells": [
    {
      "cell_type": "code",
      "execution_count": null,
      "metadata": {
        "colab": {},
        "colab_type": "code",
        "id": "hmA6EzkQJ5jt"
      },
      "outputs": [],
      "source": [
        "import csv\n",
        "import random\n",
        "import numpy as np\n",
        "import tensorflow as tf\n",
        "\n",
        "from tensorflow.keras.preprocessing.text import Tokenizer\n",
        "from tensorflow.keras.preprocessing.sequence import pad_sequences\n",
        "from tensorflow.keras.utils import to_categorical\n",
        "from tensorflow.keras import regularizers\n",
        "\n",
        "\n",
        "embedding_dim = 100\n",
        "max_length = 16\n",
        "trunc_type = 'post'\n",
        "padding_type = 'post'\n",
        "oov_tok = \"<OOV>\"\n",
        "training_size = 160000\n",
        "test_portion = .1\n",
        "\n",
        "corpus = []\n"
      ]
    },
    {
      "cell_type": "code",
      "execution_count": null,
      "metadata": {
        "colab": {
          "base_uri": "https://localhost:8080/",
          "height": 204
        },
        "colab_type": "code",
        "id": "bM0l_dORKqE0",
        "outputId": "491ba86b-f780-4355-a4be-765565a29c8c"
      },
      "outputs": [],
      "source": [
        "# Note that I cleaned the Stanford dataset to remove LATIN1 encoding to make it easier for Python CSV reader\n",
        "# You can do that yourself with:\n",
        "# iconv -f LATIN1 -t UTF8 training.1600000.processed.noemoticon.csv -o training_cleaned.csv\n",
        "# I then hosted it on my site to make it easier to use in this notebook\n",
        "\n",
        "import os\n",
        "import requests\n",
        "\n",
        "path = os.path.join('dataset')\n",
        "filename = \"training_cleaned.csv\"\n",
        "filepath = os.path.join(path, filename)\n",
        "\n",
        "if not os.path.exists(path):\n",
        "    os.makedirs(path)\n",
        "\n",
        "if not os.path.exists(filepath):\n",
        "    url = \"https://storage.googleapis.com/laurencemoroney-blog.appspot.com/training_cleaned.csv\"\n",
        "    jfile = requests.get(url)\n",
        "    open(filepath, 'wb').write(jfile.content)\n"
      ]
    },
    {
      "cell_type": "code",
      "execution_count": null,
      "metadata": {},
      "outputs": [],
      "source": [
        "import pandas as pd\n",
        "num_sentences = 0\n",
        "\n",
        "data = pd.read_csv('dataset/training_cleaned.csv', header=None)\n",
        "\n",
        "data.loc[data.loc[:, 0] == 4, 0] = 1\n",
        "data.loc[data.loc[:, 0] == 0, 0] = 0\n",
        "\n",
        "corpus = np.array(data.loc[:, [5, 0]])\n",
        "num_sentences = data.shape[0]\n",
        "\n",
        "# with open(\"dataset/training_cleaned.csv\") as csvfile:\n",
        "#     reader = csv.reader(csvfile)\n",
        "#     for row in reader:\n",
        "#       # Your Code here. Create list items where the first item is the text, found in row[5],\n",
        "#       # and the second is the label. Note that the label is a '0' or a '4' in the text.\n",
        "#       # When it's the former, make your label to be 0, otherwise 1. Keep a count of the number\n",
        "#       # of sentences in num_sentences\n",
        "#         list_item=[\"\",0]\n",
        "#         # YOUR CODE HERE\n",
        "#         list_item[0]=row[5]\n",
        "#         if row[0]:\n",
        "#           list_item[1]=1\n",
        "#         else:\n",
        "#           list_item[1]=0\n",
        "#         num_sentences = num_sentences + 1\n",
        "#         corpus.append(list_item)\n"
      ]
    },
    {
      "cell_type": "code",
      "execution_count": null,
      "metadata": {
        "colab": {
          "base_uri": "https://localhost:8080/",
          "height": 68
        },
        "colab_type": "code",
        "id": "3kxblBUjEUX-",
        "outputId": "3c0227a2-e74b-4d9b-cabb-f9ee150571b1"
      },
      "outputs": [],
      "source": [
        "print(num_sentences)\n",
        "print(len(corpus))\n",
        "print(corpus[1])\n",
        "\n",
        "# Expected Output:\n",
        "# 1600000\n",
        "# 1600000\n",
        "# [\"is upset that he can't update his Facebook by texting it... and might cry as a result  School today also. Blah!\", 0]\n"
      ]
    },
    {
      "cell_type": "code",
      "execution_count": null,
      "metadata": {
        "colab": {},
        "colab_type": "code",
        "id": "ohOGz24lsNAD"
      },
      "outputs": [],
      "source": [
        "sentences=[]\n",
        "labels=[]\n",
        "random.shuffle(corpus)\n",
        "for x in range(training_size):\n",
        "    sentences.append(corpus[x][0])\n",
        "    labels.append(corpus[x][1])\n",
        "\n",
        "\n",
        "tokenizer = Tokenizer()\n",
        "tokenizer.fit_on_texts(sentences)\n",
        "\n",
        "word_index = tokenizer.word_index\n",
        "vocab_size=len(word_index)\n",
        "\n",
        "sequences = tokenizer.texts_to_sequences(sentences)\n",
        "padded = pad_sequences(sequences, maxlen=max_length, padding=padding_type, truncating=trunc_type)\n",
        "\n",
        "split = int(test_portion * training_size)\n",
        "\n",
        "test_sequences = np.array(padded[0:split])\n",
        "training_sequences = np.array(padded[split:training_size])\n",
        "test_labels = np.array(labels[0:split])\n",
        "training_labels = np.array(labels[split:training_size])\n"
      ]
    },
    {
      "cell_type": "code",
      "execution_count": null,
      "metadata": {
        "colab": {
          "base_uri": "https://localhost:8080/",
          "height": 51
        },
        "colab_type": "code",
        "id": "gIrtRem1En3N",
        "outputId": "4ad8401c-8dba-420d-8aee-38dac0b0839a"
      },
      "outputs": [],
      "source": [
        "print(vocab_size)\n",
        "print(word_index['i'])\n",
        "# Expected Output\n",
        "# 138858\n",
        "# 1\n"
      ]
    },
    {
      "cell_type": "code",
      "execution_count": null,
      "metadata": {
        "colab": {
          "base_uri": "https://localhost:8080/",
          "height": 204
        },
        "colab_type": "code",
        "id": "C1zdgJkusRh0",
        "outputId": "b6edd322-8191-45e7-cb12-08921685a72f"
      },
      "outputs": [],
      "source": [
        "# Note this is the 100 dimension version of GloVe from Stanford\n",
        "# I unzipped and hosted it on my site to make this notebook easier\n",
        "\n",
        "path = os.path.join('dataset')\n",
        "filename = \"glove.6B.100d.txt\"\n",
        "filepath = os.path.join(path, filename)\n",
        "\n",
        "if not os.path.exists(path):\n",
        "    os.makedirs(path)\n",
        "\n",
        "if not os.path.exists(filepath):\n",
        "    url = \"https://resources.oreilly.com/conferences/natural-language-processing-with-deep-learning/-/raw/master/data/glove.6B.100d.txt?inline=false\"\n",
        "    jfile = requests.get(url)\n",
        "    print(\"downloading...\")\n",
        "    open(filepath, 'wb').write(jfile.content)\n",
        "\n",
        "embeddings_index = {}\n",
        "with open('dataset/glove.6B.100d.txt',encoding=\"utf-8\") as f:\n",
        "    for line in f:\n",
        "        values = line.split()\n",
        "        word = values[0]\n",
        "        coefs = np.asarray(values[1:], dtype='float32')\n",
        "        embeddings_index[word] = coefs\n",
        "\n",
        "embeddings_matrix = np.zeros((vocab_size+1, embedding_dim))\n",
        "for word, i in word_index.items():\n",
        "    embedding_vector = embeddings_index.get(word)\n",
        "    if embedding_vector is not None:\n",
        "        embeddings_matrix[i] = embedding_vector\n"
      ]
    },
    {
      "cell_type": "code",
      "execution_count": null,
      "metadata": {
        "colab": {
          "base_uri": "https://localhost:8080/",
          "height": 34
        },
        "colab_type": "code",
        "id": "71NLk_lpFLNt",
        "outputId": "97cb88db-754f-4375-fdc3-876cd6b4fdce"
      },
      "outputs": [],
      "source": [
        "print(len(embeddings_matrix))\n",
        "# Expected Output\n",
        "# 138859"
      ]
    },
    {
      "cell_type": "code",
      "execution_count": null,
      "metadata": {
        "colab": {},
        "colab_type": "code",
        "id": "iKKvbuEBOGFz"
      },
      "outputs": [],
      "source": [
        "model = tf.keras.Sequential([\n",
        "    tf.keras.layers.Embedding(vocab_size+1, embedding_dim, input_length=max_length,\n",
        "                              weights=[embeddings_matrix], trainable=False),\n",
        "    tf.keras.layers.Conv1D(64,5, activation='relu'),\n",
        "    tf.keras.layers.MaxPolling1D(pool_size=4),\n",
        "    tf.keras.layers.LSTM(64),\n",
        "    tf.keras.layers.Dense(1,activation='sigmoid')\n",
        "])\n",
        "model.compile(optimizer=\"adam\",loss=\"binary_crossentropy\", metrics=['accuracy'])\n",
        "model.summary()\n",
        "\n",
        "num_epochs=50\n",
        "history=model.fit(training_sequences, training_labels, epochs=num_epochs,\n",
        "                  validation_data=(test_sequences, test_labels), verbose=2)\n",
        "\n",
        "print(\"Training Complete\")\n"
      ]
    },
    {
      "cell_type": "code",
      "execution_count": null,
      "metadata": {
        "colab": {},
        "colab_type": "code",
        "id": "qxju4ItJKO8F"
      },
      "outputs": [],
      "source": [
        "import matplotlib.image as mpimg\n",
        "import matplotlib.pyplot as plt\n",
        "\n",
        "# -----------------------------------------------------------\n",
        "# Retrieve a list of list results on training and test data\n",
        "# sets for each training epoch\n",
        "# -----------------------------------------------------------\n",
        "acc = history.history['accuracy']\n",
        "val_acc = history.history['val_accuracy']\n",
        "loss = history.history['loss']\n",
        "val_loss = history.history['val_loss']\n",
        "\n",
        "epochs = range(len(acc))  # Get number of epochs\n",
        "\n",
        "# ------------------------------------------------\n",
        "# Plot training and validation accuracy per epoch\n",
        "# ------------------------------------------------\n",
        "plt.plot(epochs, acc, 'r')\n",
        "plt.plot(epochs, val_acc, 'b')\n",
        "plt.title('Training and validation accuracy')\n",
        "plt.xlabel(\"Epochs\")\n",
        "plt.ylabel(\"Accuracy\")\n",
        "plt.legend([\"Accuracy\", \"Validation Accuracy\"])\n",
        "\n",
        "plt.figure()\n",
        "\n",
        "# ------------------------------------------------\n",
        "# Plot training and validation loss per epoch\n",
        "# ------------------------------------------------\n",
        "plt.plot(epochs, loss, 'r')\n",
        "plt.plot(epochs, val_loss, 'b')\n",
        "plt.title('Training and validation loss')\n",
        "plt.xlabel(\"Epochs\")\n",
        "plt.ylabel(\"Loss\")\n",
        "plt.legend([\"Loss\", \"Validation Loss\"])\n",
        "\n",
        "plt.figure()\n",
        "\n",
        "\n",
        "# Expected Output\n",
        "# A chart where the validation loss does not increase sharply!\n"
      ]
    }
  ],
  "metadata": {
    "accelerator": "GPU",
    "colab": {
      "name": "NLP Course - Week 3 Exercise Question.ipynb",
      "provenance": [],
      "toc_visible": true,
      "version": "0.3.2"
    },
    "kernelspec": {
      "display_name": "Python 3",
      "name": "python3"
    },
    "language_info": {
      "codemirror_mode": {
        "name": "ipython",
        "version": 3
      },
      "file_extension": ".py",
      "mimetype": "text/x-python",
      "name": "python",
      "nbconvert_exporter": "python",
      "pygments_lexer": "ipython3",
      "version": "3.9.9"
    }
  },
  "nbformat": 4,
  "nbformat_minor": 0
}
